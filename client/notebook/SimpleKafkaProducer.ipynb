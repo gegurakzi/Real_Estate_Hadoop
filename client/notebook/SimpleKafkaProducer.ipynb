{
 "cells": [
  {
   "cell_type": "code",
   "execution_count": 24,
   "id": "c70226ce-c212-41e9-a9f0-51209bd1076d",
   "metadata": {
    "tags": []
   },
   "outputs": [
    {
     "name": "stdout",
     "output_type": "stream",
     "text": [
      "elapsed : 8.696838617324829\n"
     ]
    }
   ],
   "source": [
    "from kafka import KafkaProducer\n",
    "from json import dumps\n",
    "import time\n",
    "\n",
    "producer = KafkaProducer(acks=0,\n",
    "                         compression_type='gzip',\n",
    "                         bootstrap_servers=['master01:9092','master02:9092'],\n",
    "                         key_serializer=lambda x: dumps(x).encode('utf-8'),\n",
    "                         value_serializer=lambda x: dumps(x).encode('utf-8'))\n",
    "start = time.time()\n",
    "\n",
    "for i in range(10000):\n",
    "    data = {'str': 'result'+str(i)}\n",
    "    producer.send('simple-events', key=str(i), value=data)\n",
    "    producer.flush()\n",
    "    \n",
    "print(\"elapsed :\", time.time() - start)"
   ]
  },
  {
   "cell_type": "code",
   "execution_count": null,
   "id": "2d361b37-461c-4851-9656-bc002a542dd3",
   "metadata": {},
   "outputs": [],
   "source": []
  }
 ],
 "metadata": {
  "kernelspec": {
   "display_name": "Python 3 (ipykernel)",
   "language": "python",
   "name": "python3"
  },
  "language_info": {
   "codemirror_mode": {
    "name": "ipython",
    "version": 3
   },
   "file_extension": ".py",
   "mimetype": "text/x-python",
   "name": "python",
   "nbconvert_exporter": "python",
   "pygments_lexer": "ipython3",
   "version": "3.9.5"
  }
 },
 "nbformat": 4,
 "nbformat_minor": 5
}
