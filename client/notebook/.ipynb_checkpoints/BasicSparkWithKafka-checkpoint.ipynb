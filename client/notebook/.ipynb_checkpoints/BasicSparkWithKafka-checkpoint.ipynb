{
 "cells": [
  {
   "cell_type": "markdown",
   "id": "42da6111-9693-4d53-9647-5537ff163e62",
   "metadata": {},
   "source": [
    "# Kafka Streaming + PySpark 예제\n",
    "\n",
    "### 1. findspark를 통해 pyspark 등 라이브러리 추가"
   ]
  },
  {
   "cell_type": "code",
   "execution_count": 1,
   "id": "8d91074e-e4d9-4bd8-8590-56337fef5355",
   "metadata": {
    "tags": []
   },
   "outputs": [],
   "source": [
    "import findspark\n",
    "findspark.init(\"/usr/local/lib/spark-3.3.2-bin-hadoop3\")"
   ]
  },
  {
   "cell_type": "markdown",
   "id": "7e47d04a-ff82-4cbe-86c1-826f9042c3e3",
   "metadata": {},
   "source": [
    "### 2. 동작하고있는 Kafka 서버와 Topic을 정의"
   ]
  },
  {
   "cell_type": "code",
   "execution_count": 2,
   "id": "31bf0d0d-72df-41a4-ab71-fe4c736b91ac",
   "metadata": {
    "tags": []
   },
   "outputs": [],
   "source": [
    "from pyspark import SparkConf\n",
    "from pyspark.sql.functions import *\n",
    "from pyspark.sql.types import *\n",
    "from pyspark.sql import *\n",
    "from pyspark.sql.functions import udf\n",
    "from pyspark.sql.functions import col, pandas_udf, split\n",
    "\n",
    "kafka_bootstrap_servers = 'slave03:9092'\n",
    "topic = 'quickstart-events'"
   ]
  },
  {
   "cell_type": "markdown",
   "id": "5040f3d6-69fe-427a-b2dd-b223cce55fb2",
   "metadata": {},
   "source": [
    "### 3. SparkConf를 통해 configuration 추가하고, SparkContext 생성\n",
    "spark.jars.packages 옵션을 통해 Maven Repository에서 특절 Group,Artifact, Version의 Jar 파일을 가져올 수 있다. \\<groupId>:\\<artifactID>:\\<version>의 형식으로 값을 넘겨줄 수 있으며, Spark는 받은 jar 파일을 자동으로 HDFS에 넘겨주어 의존성을 추가한다. 이 예제에선 org.apache.spark:spark-sql-kafka-0-10_2.12:3.3.2 패키지를 통해 Spark와 Kafka를 연동한다."
   ]
  },
  {
   "cell_type": "code",
   "execution_count": null,
   "id": "15d5ee6f-0b60-488b-984d-ed13f7322b6b",
   "metadata": {
    "tags": []
   },
   "outputs": [],
   "source": [
    "sconf = SparkConf()\n",
    "sconf.setAppName(\"Jupyter_Notebook\").set(\"spark.jars.packages\", \"org.apache.spark:spark-sql-kafka-0-10_2.12:3.3.2\")\n",
    "\n",
    "sc = SparkContext(conf=sconf)"
   ]
  },
  {
   "cell_type": "markdown",
   "id": "b5bc7419-fc36-4ccb-bb9e-7e0b547343a9",
   "metadata": {},
   "source": [
    "### 4. SparkSession을 Kafka 세션으로 정의, readStream-load를 통해 스트리밍 세션으로 연동"
   ]
  },
  {
   "cell_type": "code",
   "execution_count": 4,
   "id": "c60b51e8-0847-4d65-aefc-8763b6cd587b",
   "metadata": {
    "tags": []
   },
   "outputs": [
    {
     "name": "stdout",
     "output_type": "stream",
     "text": [
      "root\n",
      " |-- key: binary (nullable = true)\n",
      " |-- value: binary (nullable = true)\n",
      " |-- topic: string (nullable = true)\n",
      " |-- partition: integer (nullable = true)\n",
      " |-- offset: long (nullable = true)\n",
      " |-- timestamp: timestamp (nullable = true)\n",
      " |-- timestampType: integer (nullable = true)\n",
      "\n"
     ]
    }
   ],
   "source": [
    "session = SparkSession(sc)\n",
    "streamming_df = session \\\n",
    "  .readStream \\\n",
    "  .format(\"kafka\") \\\n",
    "  .option(\"kafka.bootstrap.servers\", kafka_bootstrap_servers) \\\n",
    "  .option(\"failOnDataLoss\",\"False\") \\\n",
    "  .option(\"subscribe\", topic) \\\n",
    "  .load()\n",
    "streamming_df.printSchema()"
   ]
  },
  {
   "cell_type": "markdown",
   "id": "98f61436-62a5-4b7f-b86b-08996aedf2d9",
   "metadata": {},
   "source": [
    "### 5. timestamp 컬럼에서 밀리초 단위 제거, 초 단위 그룹핑, 20초동안 콘솔로 스트림 출력"
   ]
  },
  {
   "cell_type": "code",
   "execution_count": null,
   "id": "610e6179-0aca-46e7-b52d-2101dc9c1cb2",
   "metadata": {
    "tags": []
   },
   "outputs": [],
   "source": [
    "import time\n",
    "\n",
    "streamming_query = streamming_df.withColumn(\"timestamp_sec\", col(\"timestamp\").cast(\"string\").substr(12, 8)).groupby(\"timestamp_sec\").count()\n",
    "\n",
    "query = streamming_query.writeStream.format(\"console\").outputMode(\"complete\").start()\n",
    "\n",
    "time.sleep(20)\n",
    "query.stop()"
   ]
  },
  {
   "cell_type": "markdown",
   "id": "d5a134f7-bf0b-4f44-9dd5-85caa0a8d7bb",
   "metadata": {},
   "source": [
    "### 6. Session과 Context 종료"
   ]
  },
  {
   "cell_type": "code",
   "execution_count": 24,
   "id": "12a54255-3641-4378-8e56-4c22fcf8cfc2",
   "metadata": {
    "tags": []
   },
   "outputs": [],
   "source": [
    "session.stop()\n",
    "sc.stop()"
   ]
  }
 ],
 "metadata": {
  "kernelspec": {
   "display_name": "Python 3 (ipykernel)",
   "language": "python",
   "name": "python3"
  },
  "language_info": {
   "codemirror_mode": {
    "name": "ipython",
    "version": 3
   },
   "file_extension": ".py",
   "mimetype": "text/x-python",
   "name": "python",
   "nbconvert_exporter": "python",
   "pygments_lexer": "ipython3",
   "version": "3.9.5"
  }
 },
 "nbformat": 4,
 "nbformat_minor": 5
}
